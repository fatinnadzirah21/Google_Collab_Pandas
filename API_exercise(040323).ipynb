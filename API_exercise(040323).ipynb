{
  "nbformat": 4,
  "nbformat_minor": 0,
  "metadata": {
    "colab": {
      "provenance": [],
      "authorship_tag": "ABX9TyPDG1D6UruDmYZJn+Wee15W",
      "include_colab_link": true
    },
    "kernelspec": {
      "name": "python3",
      "display_name": "Python 3"
    },
    "language_info": {
      "name": "python"
    }
  },
  "cells": [
    {
      "cell_type": "markdown",
      "metadata": {
        "id": "view-in-github",
        "colab_type": "text"
      },
      "source": [
        "<a href=\"https://colab.research.google.com/github/fatinnadzirah21/Python-Pandas-Google-Colaboratory/blob/main/API_exercise(040323).ipynb\" target=\"_parent\"><img src=\"https://colab.research.google.com/assets/colab-badge.svg\" alt=\"Open In Colab\"/></a>"
      ]
    },
    {
      "cell_type": "code",
      "execution_count": 41,
      "metadata": {
        "id": "ZsVnEqB3-xPv"
      },
      "outputs": [],
      "source": [
        "import pandas as pd\n",
        "import requests\n",
        "import json"
      ]
    },
    {
      "cell_type": "code",
      "source": [
        "# Need to extract all data from all pages\n",
        "for page_num in range(1, 11): # Loop through from pages 1 to 10\n",
        "    # Build the URL and download the results\n",
        "    url = \"https://api.themoviedb.org/3/movie/top_rated?api_key=01534b2b788774ab2c62af604febf074&page=\" + str(page_num)\n",
        "    print(\"Downloading\", url)\n",
        "    response = requests.get(url)\n",
        "    data = response.json()\n",
        "\n",
        "    #convert json into dataframe\n",
        "    df = pd.DataFrame(data)\n",
        "    if page_num == 1: #to make sure the dataframe is not empty for .append()\n",
        "      total_results = df\n",
        "    else:\n",
        "      total_results = total_results.append(df)\n",
        "\n",
        "total_results\n",
        "total_results.to_csv('data.csv', index=False) #save dataframe as csv file"
      ],
      "metadata": {
        "colab": {
          "base_uri": "https://localhost:8080/"
        },
        "id": "lstbwoWxJjxo",
        "outputId": "28f148c4-2324-40d3-9df6-9f6b2f14a183"
      },
      "execution_count": 75,
      "outputs": [
        {
          "output_type": "stream",
          "name": "stdout",
          "text": [
            "Downloading https://api.themoviedb.org/3/movie/top_rated?api_key=01534b2b788774ab2c62af604febf074&page=1\n",
            "Downloading https://api.themoviedb.org/3/movie/top_rated?api_key=01534b2b788774ab2c62af604febf074&page=2\n",
            "Downloading https://api.themoviedb.org/3/movie/top_rated?api_key=01534b2b788774ab2c62af604febf074&page=3\n",
            "Downloading https://api.themoviedb.org/3/movie/top_rated?api_key=01534b2b788774ab2c62af604febf074&page=4\n",
            "Downloading https://api.themoviedb.org/3/movie/top_rated?api_key=01534b2b788774ab2c62af604febf074&page=5\n",
            "Downloading https://api.themoviedb.org/3/movie/top_rated?api_key=01534b2b788774ab2c62af604febf074&page=6\n",
            "Downloading https://api.themoviedb.org/3/movie/top_rated?api_key=01534b2b788774ab2c62af604febf074&page=7\n",
            "Downloading https://api.themoviedb.org/3/movie/top_rated?api_key=01534b2b788774ab2c62af604febf074&page=8\n",
            "Downloading https://api.themoviedb.org/3/movie/top_rated?api_key=01534b2b788774ab2c62af604febf074&page=9\n",
            "Downloading https://api.themoviedb.org/3/movie/top_rated?api_key=01534b2b788774ab2c62af604febf074&page=10\n"
          ]
        }
      ]
    }
  ]
}